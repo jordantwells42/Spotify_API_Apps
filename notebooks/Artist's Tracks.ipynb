{
 "cells": [
  {
   "cell_type": "markdown",
   "metadata": {},
   "source": [
    "# Artist data from Spotify API"
   ]
  },
  {
   "cell_type": "markdown",
   "metadata": {},
   "source": [
    "### 1. Creating User Authentication"
   ]
  },
  {
   "cell_type": "code",
   "execution_count": 3,
   "metadata": {},
   "outputs": [],
   "source": [
    "import requests\n",
    "import json\n",
    "import numpy as py\n",
    "import pandas as pd\n",
    "import os\n",
    "from dotenv import load_dotenv\n",
    "load_dotenv()\n",
    "\n",
    "CLIENT_ID = os.environ.get('SP_CLIENT_ID')\n",
    "CLIENT_SECRET = os.environ.get('SP_CLIENT_SECRET')\n",
    "\n",
    "AUTH_URL = 'https://accounts.spotify.com/api/token'\n",
    "API_URL = 'https://api.spotify.com/v1/'\n",
    "\n",
    "params = {\n",
    "        'Content-Type': 'application/x-www-form-urlencoded',\n",
    "        'grant_type': 'client_credentials',\n",
    "          }\n",
    "\n",
    "auth_response = requests.post(AUTH_URL, auth=(CLIENT_ID, CLIENT_SECRET), data=params)\n",
    "access_token = auth_response.json()['access_token']\n",
    "\n",
    "headers = {\n",
    "    'Authorization': 'Bearer {token}'.format(token=access_token)\n",
    "}"
   ]
  },
  {
   "cell_type": "markdown",
   "metadata": {},
   "source": [
    "### 2. Getting album info for Artist"
   ]
  },
  {
   "cell_type": "code",
   "execution_count": 10,
   "metadata": {},
   "outputs": [],
   "source": [
    "artist_id = \"0JyCM9EwjQZZzQPGTSM1qc\"\n",
    "\n",
    "album_data = requests.get(API_URL + 'artists/' + artist_id + '/albums', headers = headers, params={'include_groups': 'album', 'limit': 50} ).json()"
   ]
  },
  {
   "cell_type": "markdown",
   "metadata": {},
   "source": [
    "### 3. Extracting track info from albums"
   ]
  },
  {
   "cell_type": "code",
   "execution_count": 11,
   "metadata": {},
   "outputs": [],
   "source": [
    "tracks = []\n",
    "\n",
    "for album in album_data[\"items\"]:\n",
    "    album_id = album[\"id\"]\n",
    "    \n",
    "    track_data = requests.get(API_URL + \"albums/\" + album_id + \"/tracks\", headers = headers, params = {\"limit\": 50}).json()\n",
    "    \n",
    "    for track in track_data[\"items\"]:\n",
    "        track_features = requests.get(API_URL + \"audio-features/\" + track[\"id\"], headers = headers).json()\n",
    "        track_features.update({\n",
    "            'track_name': track['name'],\n",
    "            'album_name': album[\"name\"],\n",
    "            'release_date': album['release_date'],\n",
    "            'album_id': album_id      \n",
    "        })\n",
    "        \n",
    "        tracks.append(track_features)\n",
    "    "
   ]
  },
  {
   "cell_type": "markdown",
   "metadata": {},
   "source": [
    "### 4. Creating dataframe from track info"
   ]
  },
  {
   "cell_type": "code",
   "execution_count": 12,
   "metadata": {
    "scrolled": true
   },
   "outputs": [
    {
     "data": {
      "text/html": [
       "<div>\n",
       "<style scoped>\n",
       "    .dataframe tbody tr th:only-of-type {\n",
       "        vertical-align: middle;\n",
       "    }\n",
       "\n",
       "    .dataframe tbody tr th {\n",
       "        vertical-align: top;\n",
       "    }\n",
       "\n",
       "    .dataframe thead th {\n",
       "        text-align: right;\n",
       "    }\n",
       "</style>\n",
       "<table border=\"1\" class=\"dataframe\">\n",
       "  <thead>\n",
       "    <tr style=\"text-align: right;\">\n",
       "      <th></th>\n",
       "      <th>danceability</th>\n",
       "      <th>energy</th>\n",
       "      <th>key</th>\n",
       "      <th>loudness</th>\n",
       "      <th>mode</th>\n",
       "      <th>speechiness</th>\n",
       "      <th>acousticness</th>\n",
       "      <th>instrumentalness</th>\n",
       "      <th>liveness</th>\n",
       "      <th>valence</th>\n",
       "      <th>...</th>\n",
       "      <th>type</th>\n",
       "      <th>id</th>\n",
       "      <th>uri</th>\n",
       "      <th>track_href</th>\n",
       "      <th>analysis_url</th>\n",
       "      <th>duration_ms</th>\n",
       "      <th>time_signature</th>\n",
       "      <th>album_name</th>\n",
       "      <th>release_date</th>\n",
       "      <th>album_id</th>\n",
       "    </tr>\n",
       "    <tr>\n",
       "      <th>track_name</th>\n",
       "      <th></th>\n",
       "      <th></th>\n",
       "      <th></th>\n",
       "      <th></th>\n",
       "      <th></th>\n",
       "      <th></th>\n",
       "      <th></th>\n",
       "      <th></th>\n",
       "      <th></th>\n",
       "      <th></th>\n",
       "      <th></th>\n",
       "      <th></th>\n",
       "      <th></th>\n",
       "      <th></th>\n",
       "      <th></th>\n",
       "      <th></th>\n",
       "      <th></th>\n",
       "      <th></th>\n",
       "      <th></th>\n",
       "      <th></th>\n",
       "      <th></th>\n",
       "    </tr>\n",
       "  </thead>\n",
       "  <tbody>\n",
       "    <tr>\n",
       "      <th>Human Convention</th>\n",
       "      <td>0.593</td>\n",
       "      <td>0.808</td>\n",
       "      <td>10</td>\n",
       "      <td>-5.288</td>\n",
       "      <td>0</td>\n",
       "      <td>0.1870</td>\n",
       "      <td>0.16000</td>\n",
       "      <td>0.000030</td>\n",
       "      <td>0.1110</td>\n",
       "      <td>0.704</td>\n",
       "      <td>...</td>\n",
       "      <td>audio_features</td>\n",
       "      <td>0vFFcqvpwFMYVKVAYRLT5g</td>\n",
       "      <td>spotify:track:0vFFcqvpwFMYVKVAYRLT5g</td>\n",
       "      <td>https://api.spotify.com/v1/tracks/0vFFcqvpwFMY...</td>\n",
       "      <td>https://api.spotify.com/v1/audio-analysis/0vFF...</td>\n",
       "      <td>214442</td>\n",
       "      <td>3</td>\n",
       "      <td>Happy However After</td>\n",
       "      <td>2018-04-13</td>\n",
       "      <td>2cq60Wx5cTICqqlezQpwlA</td>\n",
       "    </tr>\n",
       "    <tr>\n",
       "      <th>Catch the Gleam</th>\n",
       "      <td>0.327</td>\n",
       "      <td>0.671</td>\n",
       "      <td>6</td>\n",
       "      <td>-5.525</td>\n",
       "      <td>0</td>\n",
       "      <td>0.0433</td>\n",
       "      <td>0.29300</td>\n",
       "      <td>0.000000</td>\n",
       "      <td>0.0910</td>\n",
       "      <td>0.179</td>\n",
       "      <td>...</td>\n",
       "      <td>audio_features</td>\n",
       "      <td>5Vh5tjFoYMp9wLQ2oumtdh</td>\n",
       "      <td>spotify:track:5Vh5tjFoYMp9wLQ2oumtdh</td>\n",
       "      <td>https://api.spotify.com/v1/tracks/5Vh5tjFoYMp9...</td>\n",
       "      <td>https://api.spotify.com/v1/audio-analysis/5Vh5...</td>\n",
       "      <td>335015</td>\n",
       "      <td>3</td>\n",
       "      <td>Happy However After</td>\n",
       "      <td>2018-04-13</td>\n",
       "      <td>2cq60Wx5cTICqqlezQpwlA</td>\n",
       "    </tr>\n",
       "    <tr>\n",
       "      <th>Let Me Be</th>\n",
       "      <td>0.648</td>\n",
       "      <td>0.918</td>\n",
       "      <td>5</td>\n",
       "      <td>-5.595</td>\n",
       "      <td>0</td>\n",
       "      <td>0.0584</td>\n",
       "      <td>0.02320</td>\n",
       "      <td>0.000000</td>\n",
       "      <td>0.1180</td>\n",
       "      <td>0.723</td>\n",
       "      <td>...</td>\n",
       "      <td>audio_features</td>\n",
       "      <td>6GgtvYLWu3krtZqbtDkM6w</td>\n",
       "      <td>spotify:track:6GgtvYLWu3krtZqbtDkM6w</td>\n",
       "      <td>https://api.spotify.com/v1/tracks/6GgtvYLWu3kr...</td>\n",
       "      <td>https://api.spotify.com/v1/audio-analysis/6Ggt...</td>\n",
       "      <td>311249</td>\n",
       "      <td>4</td>\n",
       "      <td>Happy However After</td>\n",
       "      <td>2018-04-13</td>\n",
       "      <td>2cq60Wx5cTICqqlezQpwlA</td>\n",
       "    </tr>\n",
       "    <tr>\n",
       "      <th>One in a Million</th>\n",
       "      <td>0.355</td>\n",
       "      <td>0.859</td>\n",
       "      <td>1</td>\n",
       "      <td>-6.391</td>\n",
       "      <td>1</td>\n",
       "      <td>0.0751</td>\n",
       "      <td>0.18100</td>\n",
       "      <td>0.000000</td>\n",
       "      <td>0.0956</td>\n",
       "      <td>0.487</td>\n",
       "      <td>...</td>\n",
       "      <td>audio_features</td>\n",
       "      <td>3yqmAfO5yDKGvYdI3aoP1c</td>\n",
       "      <td>spotify:track:3yqmAfO5yDKGvYdI3aoP1c</td>\n",
       "      <td>https://api.spotify.com/v1/tracks/3yqmAfO5yDKG...</td>\n",
       "      <td>https://api.spotify.com/v1/audio-analysis/3yqm...</td>\n",
       "      <td>248814</td>\n",
       "      <td>4</td>\n",
       "      <td>Happy However After</td>\n",
       "      <td>2018-04-13</td>\n",
       "      <td>2cq60Wx5cTICqqlezQpwlA</td>\n",
       "    </tr>\n",
       "    <tr>\n",
       "      <th>Smell of a Rose</th>\n",
       "      <td>0.647</td>\n",
       "      <td>0.899</td>\n",
       "      <td>0</td>\n",
       "      <td>-4.773</td>\n",
       "      <td>1</td>\n",
       "      <td>0.0610</td>\n",
       "      <td>0.00585</td>\n",
       "      <td>0.000006</td>\n",
       "      <td>0.3000</td>\n",
       "      <td>0.794</td>\n",
       "      <td>...</td>\n",
       "      <td>audio_features</td>\n",
       "      <td>6x5lfAXz7es5TUr29DhIDI</td>\n",
       "      <td>spotify:track:6x5lfAXz7es5TUr29DhIDI</td>\n",
       "      <td>https://api.spotify.com/v1/tracks/6x5lfAXz7es5...</td>\n",
       "      <td>https://api.spotify.com/v1/audio-analysis/6x5l...</td>\n",
       "      <td>230257</td>\n",
       "      <td>4</td>\n",
       "      <td>Happy However After</td>\n",
       "      <td>2018-04-13</td>\n",
       "      <td>2cq60Wx5cTICqqlezQpwlA</td>\n",
       "    </tr>\n",
       "  </tbody>\n",
       "</table>\n",
       "<p>5 rows × 21 columns</p>\n",
       "</div>"
      ],
      "text/plain": [
       "                  danceability  energy  key  loudness  mode  speechiness  \\\n",
       "track_name                                                                 \n",
       "Human Convention         0.593   0.808   10    -5.288     0       0.1870   \n",
       "Catch the Gleam          0.327   0.671    6    -5.525     0       0.0433   \n",
       "Let Me Be                0.648   0.918    5    -5.595     0       0.0584   \n",
       "One in a Million         0.355   0.859    1    -6.391     1       0.0751   \n",
       "Smell of a Rose          0.647   0.899    0    -4.773     1       0.0610   \n",
       "\n",
       "                  acousticness  instrumentalness  liveness  valence  ...  \\\n",
       "track_name                                                           ...   \n",
       "Human Convention       0.16000          0.000030    0.1110    0.704  ...   \n",
       "Catch the Gleam        0.29300          0.000000    0.0910    0.179  ...   \n",
       "Let Me Be              0.02320          0.000000    0.1180    0.723  ...   \n",
       "One in a Million       0.18100          0.000000    0.0956    0.487  ...   \n",
       "Smell of a Rose        0.00585          0.000006    0.3000    0.794  ...   \n",
       "\n",
       "                            type                      id  \\\n",
       "track_name                                                 \n",
       "Human Convention  audio_features  0vFFcqvpwFMYVKVAYRLT5g   \n",
       "Catch the Gleam   audio_features  5Vh5tjFoYMp9wLQ2oumtdh   \n",
       "Let Me Be         audio_features  6GgtvYLWu3krtZqbtDkM6w   \n",
       "One in a Million  audio_features  3yqmAfO5yDKGvYdI3aoP1c   \n",
       "Smell of a Rose   audio_features  6x5lfAXz7es5TUr29DhIDI   \n",
       "\n",
       "                                                   uri  \\\n",
       "track_name                                               \n",
       "Human Convention  spotify:track:0vFFcqvpwFMYVKVAYRLT5g   \n",
       "Catch the Gleam   spotify:track:5Vh5tjFoYMp9wLQ2oumtdh   \n",
       "Let Me Be         spotify:track:6GgtvYLWu3krtZqbtDkM6w   \n",
       "One in a Million  spotify:track:3yqmAfO5yDKGvYdI3aoP1c   \n",
       "Smell of a Rose   spotify:track:6x5lfAXz7es5TUr29DhIDI   \n",
       "\n",
       "                                                         track_href  \\\n",
       "track_name                                                            \n",
       "Human Convention  https://api.spotify.com/v1/tracks/0vFFcqvpwFMY...   \n",
       "Catch the Gleam   https://api.spotify.com/v1/tracks/5Vh5tjFoYMp9...   \n",
       "Let Me Be         https://api.spotify.com/v1/tracks/6GgtvYLWu3kr...   \n",
       "One in a Million  https://api.spotify.com/v1/tracks/3yqmAfO5yDKG...   \n",
       "Smell of a Rose   https://api.spotify.com/v1/tracks/6x5lfAXz7es5...   \n",
       "\n",
       "                                                       analysis_url  \\\n",
       "track_name                                                            \n",
       "Human Convention  https://api.spotify.com/v1/audio-analysis/0vFF...   \n",
       "Catch the Gleam   https://api.spotify.com/v1/audio-analysis/5Vh5...   \n",
       "Let Me Be         https://api.spotify.com/v1/audio-analysis/6Ggt...   \n",
       "One in a Million  https://api.spotify.com/v1/audio-analysis/3yqm...   \n",
       "Smell of a Rose   https://api.spotify.com/v1/audio-analysis/6x5l...   \n",
       "\n",
       "                 duration_ms  time_signature           album_name  \\\n",
       "track_name                                                          \n",
       "Human Convention      214442               3  Happy However After   \n",
       "Catch the Gleam       335015               3  Happy However After   \n",
       "Let Me Be             311249               4  Happy However After   \n",
       "One in a Million      248814               4  Happy However After   \n",
       "Smell of a Rose       230257               4  Happy However After   \n",
       "\n",
       "                 release_date                album_id  \n",
       "track_name                                             \n",
       "Human Convention   2018-04-13  2cq60Wx5cTICqqlezQpwlA  \n",
       "Catch the Gleam    2018-04-13  2cq60Wx5cTICqqlezQpwlA  \n",
       "Let Me Be          2018-04-13  2cq60Wx5cTICqqlezQpwlA  \n",
       "One in a Million   2018-04-13  2cq60Wx5cTICqqlezQpwlA  \n",
       "Smell of a Rose    2018-04-13  2cq60Wx5cTICqqlezQpwlA  \n",
       "\n",
       "[5 rows x 21 columns]"
      ]
     },
     "execution_count": 12,
     "metadata": {},
     "output_type": "execute_result"
    }
   ],
   "source": [
    "df = pd.DataFrame(tracks)\n",
    "df.index = df[\"track_name\"]\n",
    "df = df.drop(columns = [\"track_name\"])\n",
    "df.head()"
   ]
  },
  {
   "cell_type": "markdown",
   "metadata": {},
   "source": [
    "### 5. Sorting data by date"
   ]
  },
  {
   "cell_type": "code",
   "execution_count": 13,
   "metadata": {},
   "outputs": [],
   "source": [
    "df[\"release_date\"] = pd.to_datetime(df[\"release_date\"])"
   ]
  },
  {
   "cell_type": "markdown",
   "metadata": {},
   "source": [
    "### 6. Graphing some things"
   ]
  },
  {
   "cell_type": "code",
   "execution_count": 23,
   "metadata": {},
   "outputs": [
    {
     "data": {
      "image/png": "[encoded data removed]",
      "text/plain": [
       "<Figure size 432x288 with 1 Axes>"
      ]
     },
     "metadata": {
      "needs_background": "light"
     },
     "output_type": "display_data"
    }
   ],
   "source": [
    "import matplotlib.pyplot as plt\n",
    "plt.scatter(df[\"loudness\"], df[\"acousticness\"])\n",
    "plt.xlabel('Loudness')\n",
    "plt.ylabel('Acousticness')\n",
    "plt.show()"
   ]
  },
  {
   "cell_type": "code",
   "execution_count": 19,
   "metadata": {},
   "outputs": [
    {
     "data": {
      "image/png": "[encoded data removed]",
      "text/plain": [
       "<Figure size 432x288 with 1 Axes>"
      ]
     },
     "metadata": {
      "needs_background": "light"
     },
     "output_type": "display_data"
    }
   ],
   "source": [
    "plt.scatter(df[\"acousticness\"], df[\"energy\"])\n",
    "plt.xlabel('Acousticness')\n",
    "plt.ylabel('Energy')\n",
    "plt.show()"
   ]
  },
  {
   "cell_type": "code",
   "execution_count": null,
   "metadata": {},
   "outputs": [],
   "source": []
  }
 ],
 "metadata": {
  "kernelspec": {
   "display_name": "Python 3",
   "language": "python",
   "name": "python3"
  },
  "language_info": {
   "codemirror_mode": {
    "name": "ipython",
    "version": 3
   },
   "file_extension": ".py",
   "mimetype": "text/x-python",
   "name": "python",
   "nbconvert_exporter": "python",
   "pygments_lexer": "ipython3",
   "version": "3.8.3"
  }
 },
 "nbformat": 4,
 "nbformat_minor": 4
}
