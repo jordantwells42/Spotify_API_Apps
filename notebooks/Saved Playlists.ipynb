{
 "cells": [
  {
   "cell_type": "markdown",
   "metadata": {},
   "source": [
    "# Saved Playlists"
   ]
  },
  {
   "cell_type": "markdown",
   "metadata": {},
   "source": [
    "Generates a playlist based off saved Spotify songs from chosen artists"
   ]
  },
  {
   "cell_type": "markdown",
   "metadata": {},
   "source": [
    "### 1. Importing necessary libraries"
   ]
  },
  {
   "cell_type": "code",
   "execution_count": 7,
   "metadata": {},
   "outputs": [
    {
     "data": {
      "text/plain": [
       "True"
      ]
     },
     "execution_count": 7,
     "metadata": {},
     "output_type": "execute_result"
    }
   ],
   "source": [
    "import requests\n",
    "import json\n",
    "import pandas as pd\n",
    "import spotipy\n",
    "import os\n",
    "from dotenv import load_dotenv\n",
    "load_dotenv()"
   ]
  },
  {
   "cell_type": "markdown",
   "metadata": {},
   "source": [
    "### 2. Defining necessary authentication information"
   ]
  },
  {
   "cell_type": "code",
   "execution_count": 11,
   "metadata": {},
   "outputs": [],
   "source": [
    "USERNAME = \"jordantwells\"\n",
    "CLIENT_ID = os.environ.get('SP_CLIENT_ID')\n",
    "CLIENT_SECRET = os.environ.get('SP_CLIENT_SECRET')\n",
    "REDIRECT_URI = \"http://example.com/callback/\"\n",
    "SCOPE = \"user-library-read playlist-modify-public\""
   ]
  },
  {
   "cell_type": "markdown",
   "metadata": {},
   "source": [
    "### 3. Creating Spotipy Spotify object (paste redirect url)"
   ]
  },
  {
   "cell_type": "code",
   "execution_count": 13,
   "metadata": {},
   "outputs": [
    {
     "name": "stdout",
     "output_type": "stream",
     "text": [
      "Enter the URL you were redirected to: http://example.com/callback/?code=AQAoaixN6FnrIv_ORoEhumxRS0PRRsArdUiO0k9RuU709zhWTXbx6_Cr7wsqWP1QlFH_6r3ypoRC2NkT-kV9ZF0rYH-jMbmBxm41WksBotsXEeiPtrq9BxizTTOHqafVB6xFb46vHjYYgRo9Z1Uv927IXhx33d0YWydOZNv8GC4JseGCvFH-5sGIzyUkcIx_dZwPcXMofRJKvwXP-RKOeC8AbDruVYOEHqP8\n"
     ]
    }
   ],
   "source": [
    "tk = spotipy.util.prompt_for_user_token(USERNAME, SCOPE, CLIENT_ID, CLIENT_SECRET, REDIRECT_URI)\n",
    "sp = spotipy.Spotify(auth = tk)"
   ]
  },
  {
   "cell_type": "markdown",
   "metadata": {},
   "source": [
    "### 4. Choosing artists to create playlist from"
   ]
  },
  {
   "cell_type": "code",
   "execution_count": 17,
   "metadata": {},
   "outputs": [
    {
     "name": "stdout",
     "output_type": "stream",
     "text": [
      "Do you want to add an artist to the playlist? (Y/N) Y\n",
      "What artist do you want to add? The Reign of Kindo\n",
      "Do you want to add an artist to the playlist? (Y/N) B\n",
      "Please Select a Valid Option\n",
      "Do you want to add an artist to the playlist? (Y/N) N\n",
      "['The Reign of Kindo']\n"
     ]
    }
   ],
   "source": [
    "artists = []\n",
    "while True:\n",
    "    decider = input(\"Do you want to add an artist to the playlist? (Y/N) \")\n",
    "    if decider == 'Y':\n",
    "        artist = input(\"What artist do you want to add? \")\n",
    "        artists.append(artist)\n",
    "    elif decider == \"N\":\n",
    "        break\n",
    "    else:\n",
    "        print(\"Please Select a Valid Option\")\n",
    "print(artists)"
   ]
  },
  {
   "cell_type": "markdown",
   "metadata": {},
   "source": [
    "### 5. Extracting artist id from artist name"
   ]
  },
  {
   "cell_type": "code",
   "execution_count": 16,
   "metadata": {},
   "outputs": [
    {
     "name": "stdout",
     "output_type": "stream",
     "text": [
      "['0JyCM9EwjQZZzQPGTSM1qc']\n"
     ]
    }
   ],
   "source": [
    "artist_ids = []\n",
    "for artist in artists:\n",
    "    artist.replace(\" \", \"%20\")\n",
    "    result = sp.search(q = artist, type = 'artist')\n",
    "    artist_ids.append(result[\"artists\"][\"items\"][0][\"uri\"].split(\":\")[2])\n",
    "print(artist_ids)"
   ]
  },
  {
   "cell_type": "markdown",
   "metadata": {},
   "source": [
    "### 6. Looping through artist's tracks and adding ones to the playlist which are already saved"
   ]
  },
  {
   "cell_type": "code",
   "execution_count": 19,
   "metadata": {},
   "outputs": [
    {
     "name": "stdout",
     "output_type": "stream",
     "text": [
      "['0vFFcqvpwFMYVKVAYRLT5g', '5Vh5tjFoYMp9wLQ2oumtdh', '6GgtvYLWu3krtZqbtDkM6w', '3yqmAfO5yDKGvYdI3aoP1c', '6x5lfAXz7es5TUr29DhIDI', '7Ax20xYcaOybeVRuuDkrPs', '1oTmjppGp1ITPZCKsYNqs9', '20IdTNz3LvPcmdGbmnzSGs', '12CFI6MBUhHI6m10ROG0M0', '26sATARShaI6uo4KCv0UQx', '2ZmIjZq4rLWH5ooQ8JMeqV', '13UWJ85qsbzzSgPZWQz9m3', '4FB5Dw9J1Ynyadk211ulDi', '6ve7s9kVLftt6Nq0ylfX2c', '7yWHTMJcM34XFDAvIPZgwK', '7DZtUtS3HIOBgqL1R7UnTy', '7M3ctnAPMRdE4TsFpefTBW', '0iOv2r05bpH990Kncnb0Do', '5CELXnNJn688GFn5P2klQt', '3d56O4nh7txtNsEirUTZ89', '7s0XQvXxYOV6pPcjDUxj7F', '0ANDGH5pt17fPvHFub52FZ', '0vdJk3IuzBUMFmtoqQRLOp', '4CCg6GBrbHLmrvwQZn04Wn', '3Nj2LHRyOzHYx8xbRqtlMT', '1DwQ8m0wBb6SV3UiyGbwcc', '7ET5rZS1Dh0MhLOXIwbXZ0', '67pUK8PVn6EmpGqXyYilx4', '1WsjkRXQ3JsEVFUfO4wwoz', '6UKLLp6Ab4EYSzXgHaYgSI', '0LqJJ2OeXgSGyvJKJREjoY', '1ImyuLyfsFqN1CwdUXycsx', '1n6QTLLyKF06m4E6aErV7l', '3auFf7llPfDrAsVpiGIpM5']\n"
     ]
    }
   ],
   "source": [
    "playlist_tracks = []\n",
    "for artist_id in artist_ids:\n",
    "    albums = sp.artist_albums(artist_id)[\"items\"]\n",
    "    for album in albums:\n",
    "        tracks = sp.album_tracks(album[\"id\"])[\"items\"]\n",
    "        for track in tracks:\n",
    "            track_to_check = []\n",
    "            track_to_check.append(track[\"id\"])\n",
    "            if sp.current_user_saved_tracks_contains(tracks = track_to_check)[0]:\n",
    "                playlist_tracks.append(track[\"id\"])\n",
    "print(playlist_tracks)"
   ]
  },
  {
   "cell_type": "markdown",
   "metadata": {},
   "source": [
    "### 7. Creating and populating playlist"
   ]
  },
  {
   "cell_type": "code",
   "execution_count": 20,
   "metadata": {
    "scrolled": false
   },
   "outputs": [
    {
     "name": "stdout",
     "output_type": "stream",
     "text": [
      "What do you want the playlist to be named? My Kindo songs\n",
      "Playlist Url: https://open.spotify.com/playlist/1TzJgCAm0IKBHJV6hBzhXi\n"
     ]
    }
   ],
   "source": [
    "if len(playlist_tracks) != 0:\n",
    "    user_id = sp.current_user()['id']\n",
    "    playlist = sp.user_playlist_create(user_id, input(\"What do you want the playlist to be named? \"))\n",
    "    playlist_id = playlist[\"id\"]\n",
    "    sp.user_playlist_add_tracks(user_id, playlist_id, playlist_tracks)\n",
    "    print(\"Playlist Url: \" + playlist[\"external_urls\"]['spotify'])\n",
    "else:\n",
    "    print(\"You don't have any saved songs by those artists silly\")"
   ]
  }
 ],
 "metadata": {
  "kernelspec": {
   "display_name": "Python 3",
   "language": "python",
   "name": "python3"
  },
  "language_info": {
   "codemirror_mode": {
    "name": "ipython",
    "version": 3
   },
   "file_extension": ".py",
   "mimetype": "text/x-python",
   "name": "python",
   "nbconvert_exporter": "python",
   "pygments_lexer": "ipython3",
   "version": "3.8.3"
  }
 },
 "nbformat": 4,
 "nbformat_minor": 4
}
